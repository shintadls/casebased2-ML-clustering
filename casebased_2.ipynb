{
  "cells": [
    {
      "cell_type": "code",
      "source": [
        "import pandas as pd\n",
        "import numpy as np\n",
        "import seaborn as sns\n",
        "import matplotlib.pyplot as plt\n",
        "%matplotlib inline"
      ],
      "metadata": {
        "id": "RYjH2ViAvVNF"
      },
      "execution_count": 1,
      "outputs": []
    },
    {
      "cell_type": "code",
      "source": [
        "data = pd.read_csv(\"Country-data.csv\")\n",
        "data = pd.DataFrame(data=data)\n",
        "data"
      ],
      "metadata": {
        "colab": {
          "base_uri": "https://localhost:8080/",
          "height": 424
        },
        "id": "-q3D_ajucdZO",
        "outputId": "8d6a8efd-4ab7-4a47-f98b-50d5d058b7ee"
      },
      "execution_count": 2,
      "outputs": [
        {
          "output_type": "execute_result",
          "data": {
            "text/plain": [
              "                 country  child_mort  exports  health  imports  income  \\\n",
              "0            Afghanistan        90.2     10.0    7.58     44.9    1610   \n",
              "1                Albania        16.6     28.0    6.55     48.6    9930   \n",
              "2                Algeria        27.3     38.4    4.17     31.4   12900   \n",
              "3                 Angola       119.0     62.3    2.85     42.9    5900   \n",
              "4    Antigua and Barbuda        10.3     45.5    6.03     58.9   19100   \n",
              "..                   ...         ...      ...     ...      ...     ...   \n",
              "162              Vanuatu        29.2     46.6    5.25     52.7    2950   \n",
              "163            Venezuela        17.1     28.5    4.91     17.6   16500   \n",
              "164              Vietnam        23.3     72.0    6.84     80.2    4490   \n",
              "165                Yemen        56.3     30.0    5.18     34.4    4480   \n",
              "166               Zambia        83.1     37.0    5.89     30.9    3280   \n",
              "\n",
              "     inflation  life_expec  total_fer   gdpp  \n",
              "0         9.44        56.2       5.82    553  \n",
              "1         4.49        76.3       1.65   4090  \n",
              "2        16.10        76.5       2.89   4460  \n",
              "3        22.40        60.1       6.16   3530  \n",
              "4         1.44        76.8       2.13  12200  \n",
              "..         ...         ...        ...    ...  \n",
              "162       2.62        63.0       3.50   2970  \n",
              "163      45.90        75.4       2.47  13500  \n",
              "164      12.10        73.1       1.95   1310  \n",
              "165      23.60        67.5       4.67   1310  \n",
              "166      14.00        52.0       5.40   1460  \n",
              "\n",
              "[167 rows x 10 columns]"
            ],
            "text/html": [
              "\n",
              "  <div id=\"df-471994c2-6483-4f7a-be6b-8215db63f87c\">\n",
              "    <div class=\"colab-df-container\">\n",
              "      <div>\n",
              "<style scoped>\n",
              "    .dataframe tbody tr th:only-of-type {\n",
              "        vertical-align: middle;\n",
              "    }\n",
              "\n",
              "    .dataframe tbody tr th {\n",
              "        vertical-align: top;\n",
              "    }\n",
              "\n",
              "    .dataframe thead th {\n",
              "        text-align: right;\n",
              "    }\n",
              "</style>\n",
              "<table border=\"1\" class=\"dataframe\">\n",
              "  <thead>\n",
              "    <tr style=\"text-align: right;\">\n",
              "      <th></th>\n",
              "      <th>country</th>\n",
              "      <th>child_mort</th>\n",
              "      <th>exports</th>\n",
              "      <th>health</th>\n",
              "      <th>imports</th>\n",
              "      <th>income</th>\n",
              "      <th>inflation</th>\n",
              "      <th>life_expec</th>\n",
              "      <th>total_fer</th>\n",
              "      <th>gdpp</th>\n",
              "    </tr>\n",
              "  </thead>\n",
              "  <tbody>\n",
              "    <tr>\n",
              "      <th>0</th>\n",
              "      <td>Afghanistan</td>\n",
              "      <td>90.2</td>\n",
              "      <td>10.0</td>\n",
              "      <td>7.58</td>\n",
              "      <td>44.9</td>\n",
              "      <td>1610</td>\n",
              "      <td>9.44</td>\n",
              "      <td>56.2</td>\n",
              "      <td>5.82</td>\n",
              "      <td>553</td>\n",
              "    </tr>\n",
              "    <tr>\n",
              "      <th>1</th>\n",
              "      <td>Albania</td>\n",
              "      <td>16.6</td>\n",
              "      <td>28.0</td>\n",
              "      <td>6.55</td>\n",
              "      <td>48.6</td>\n",
              "      <td>9930</td>\n",
              "      <td>4.49</td>\n",
              "      <td>76.3</td>\n",
              "      <td>1.65</td>\n",
              "      <td>4090</td>\n",
              "    </tr>\n",
              "    <tr>\n",
              "      <th>2</th>\n",
              "      <td>Algeria</td>\n",
              "      <td>27.3</td>\n",
              "      <td>38.4</td>\n",
              "      <td>4.17</td>\n",
              "      <td>31.4</td>\n",
              "      <td>12900</td>\n",
              "      <td>16.10</td>\n",
              "      <td>76.5</td>\n",
              "      <td>2.89</td>\n",
              "      <td>4460</td>\n",
              "    </tr>\n",
              "    <tr>\n",
              "      <th>3</th>\n",
              "      <td>Angola</td>\n",
              "      <td>119.0</td>\n",
              "      <td>62.3</td>\n",
              "      <td>2.85</td>\n",
              "      <td>42.9</td>\n",
              "      <td>5900</td>\n",
              "      <td>22.40</td>\n",
              "      <td>60.1</td>\n",
              "      <td>6.16</td>\n",
              "      <td>3530</td>\n",
              "    </tr>\n",
              "    <tr>\n",
              "      <th>4</th>\n",
              "      <td>Antigua and Barbuda</td>\n",
              "      <td>10.3</td>\n",
              "      <td>45.5</td>\n",
              "      <td>6.03</td>\n",
              "      <td>58.9</td>\n",
              "      <td>19100</td>\n",
              "      <td>1.44</td>\n",
              "      <td>76.8</td>\n",
              "      <td>2.13</td>\n",
              "      <td>12200</td>\n",
              "    </tr>\n",
              "    <tr>\n",
              "      <th>...</th>\n",
              "      <td>...</td>\n",
              "      <td>...</td>\n",
              "      <td>...</td>\n",
              "      <td>...</td>\n",
              "      <td>...</td>\n",
              "      <td>...</td>\n",
              "      <td>...</td>\n",
              "      <td>...</td>\n",
              "      <td>...</td>\n",
              "      <td>...</td>\n",
              "    </tr>\n",
              "    <tr>\n",
              "      <th>162</th>\n",
              "      <td>Vanuatu</td>\n",
              "      <td>29.2</td>\n",
              "      <td>46.6</td>\n",
              "      <td>5.25</td>\n",
              "      <td>52.7</td>\n",
              "      <td>2950</td>\n",
              "      <td>2.62</td>\n",
              "      <td>63.0</td>\n",
              "      <td>3.50</td>\n",
              "      <td>2970</td>\n",
              "    </tr>\n",
              "    <tr>\n",
              "      <th>163</th>\n",
              "      <td>Venezuela</td>\n",
              "      <td>17.1</td>\n",
              "      <td>28.5</td>\n",
              "      <td>4.91</td>\n",
              "      <td>17.6</td>\n",
              "      <td>16500</td>\n",
              "      <td>45.90</td>\n",
              "      <td>75.4</td>\n",
              "      <td>2.47</td>\n",
              "      <td>13500</td>\n",
              "    </tr>\n",
              "    <tr>\n",
              "      <th>164</th>\n",
              "      <td>Vietnam</td>\n",
              "      <td>23.3</td>\n",
              "      <td>72.0</td>\n",
              "      <td>6.84</td>\n",
              "      <td>80.2</td>\n",
              "      <td>4490</td>\n",
              "      <td>12.10</td>\n",
              "      <td>73.1</td>\n",
              "      <td>1.95</td>\n",
              "      <td>1310</td>\n",
              "    </tr>\n",
              "    <tr>\n",
              "      <th>165</th>\n",
              "      <td>Yemen</td>\n",
              "      <td>56.3</td>\n",
              "      <td>30.0</td>\n",
              "      <td>5.18</td>\n",
              "      <td>34.4</td>\n",
              "      <td>4480</td>\n",
              "      <td>23.60</td>\n",
              "      <td>67.5</td>\n",
              "      <td>4.67</td>\n",
              "      <td>1310</td>\n",
              "    </tr>\n",
              "    <tr>\n",
              "      <th>166</th>\n",
              "      <td>Zambia</td>\n",
              "      <td>83.1</td>\n",
              "      <td>37.0</td>\n",
              "      <td>5.89</td>\n",
              "      <td>30.9</td>\n",
              "      <td>3280</td>\n",
              "      <td>14.00</td>\n",
              "      <td>52.0</td>\n",
              "      <td>5.40</td>\n",
              "      <td>1460</td>\n",
              "    </tr>\n",
              "  </tbody>\n",
              "</table>\n",
              "<p>167 rows × 10 columns</p>\n",
              "</div>\n",
              "      <button class=\"colab-df-convert\" onclick=\"convertToInteractive('df-471994c2-6483-4f7a-be6b-8215db63f87c')\"\n",
              "              title=\"Convert this dataframe to an interactive table.\"\n",
              "              style=\"display:none;\">\n",
              "        \n",
              "  <svg xmlns=\"http://www.w3.org/2000/svg\" height=\"24px\"viewBox=\"0 0 24 24\"\n",
              "       width=\"24px\">\n",
              "    <path d=\"M0 0h24v24H0V0z\" fill=\"none\"/>\n",
              "    <path d=\"M18.56 5.44l.94 2.06.94-2.06 2.06-.94-2.06-.94-.94-2.06-.94 2.06-2.06.94zm-11 1L8.5 8.5l.94-2.06 2.06-.94-2.06-.94L8.5 2.5l-.94 2.06-2.06.94zm10 10l.94 2.06.94-2.06 2.06-.94-2.06-.94-.94-2.06-.94 2.06-2.06.94z\"/><path d=\"M17.41 7.96l-1.37-1.37c-.4-.4-.92-.59-1.43-.59-.52 0-1.04.2-1.43.59L10.3 9.45l-7.72 7.72c-.78.78-.78 2.05 0 2.83L4 21.41c.39.39.9.59 1.41.59.51 0 1.02-.2 1.41-.59l7.78-7.78 2.81-2.81c.8-.78.8-2.07 0-2.86zM5.41 20L4 18.59l7.72-7.72 1.47 1.35L5.41 20z\"/>\n",
              "  </svg>\n",
              "      </button>\n",
              "      \n",
              "  <style>\n",
              "    .colab-df-container {\n",
              "      display:flex;\n",
              "      flex-wrap:wrap;\n",
              "      gap: 12px;\n",
              "    }\n",
              "\n",
              "    .colab-df-convert {\n",
              "      background-color: #E8F0FE;\n",
              "      border: none;\n",
              "      border-radius: 50%;\n",
              "      cursor: pointer;\n",
              "      display: none;\n",
              "      fill: #1967D2;\n",
              "      height: 32px;\n",
              "      padding: 0 0 0 0;\n",
              "      width: 32px;\n",
              "    }\n",
              "\n",
              "    .colab-df-convert:hover {\n",
              "      background-color: #E2EBFA;\n",
              "      box-shadow: 0px 1px 2px rgba(60, 64, 67, 0.3), 0px 1px 3px 1px rgba(60, 64, 67, 0.15);\n",
              "      fill: #174EA6;\n",
              "    }\n",
              "\n",
              "    [theme=dark] .colab-df-convert {\n",
              "      background-color: #3B4455;\n",
              "      fill: #D2E3FC;\n",
              "    }\n",
              "\n",
              "    [theme=dark] .colab-df-convert:hover {\n",
              "      background-color: #434B5C;\n",
              "      box-shadow: 0px 1px 3px 1px rgba(0, 0, 0, 0.15);\n",
              "      filter: drop-shadow(0px 1px 2px rgba(0, 0, 0, 0.3));\n",
              "      fill: #FFFFFF;\n",
              "    }\n",
              "  </style>\n",
              "\n",
              "      <script>\n",
              "        const buttonEl =\n",
              "          document.querySelector('#df-471994c2-6483-4f7a-be6b-8215db63f87c button.colab-df-convert');\n",
              "        buttonEl.style.display =\n",
              "          google.colab.kernel.accessAllowed ? 'block' : 'none';\n",
              "\n",
              "        async function convertToInteractive(key) {\n",
              "          const element = document.querySelector('#df-471994c2-6483-4f7a-be6b-8215db63f87c');\n",
              "          const dataTable =\n",
              "            await google.colab.kernel.invokeFunction('convertToInteractive',\n",
              "                                                     [key], {});\n",
              "          if (!dataTable) return;\n",
              "\n",
              "          const docLinkHtml = 'Like what you see? Visit the ' +\n",
              "            '<a target=\"_blank\" href=https://colab.research.google.com/notebooks/data_table.ipynb>data table notebook</a>'\n",
              "            + ' to learn more about interactive tables.';\n",
              "          element.innerHTML = '';\n",
              "          dataTable['output_type'] = 'display_data';\n",
              "          await google.colab.output.renderOutput(dataTable, element);\n",
              "          const docLink = document.createElement('div');\n",
              "          docLink.innerHTML = docLinkHtml;\n",
              "          element.appendChild(docLink);\n",
              "        }\n",
              "      </script>\n",
              "    </div>\n",
              "  </div>\n",
              "  "
            ]
          },
          "metadata": {},
          "execution_count": 2
        }
      ]
    },
    {
      "cell_type": "code",
      "source": [
        "count_nan = data.isnull().sum().sum()\n",
        "count_nan"
      ],
      "metadata": {
        "colab": {
          "base_uri": "https://localhost:8080/"
        },
        "id": "-THZa-z6nR4y",
        "outputId": "da69561c-1ec2-4842-8cb1-fba0cdb8328d"
      },
      "execution_count": 3,
      "outputs": [
        {
          "output_type": "execute_result",
          "data": {
            "text/plain": [
              "0"
            ]
          },
          "metadata": {},
          "execution_count": 3
        }
      ]
    },
    {
      "cell_type": "code",
      "source": [
        "data.info()"
      ],
      "metadata": {
        "colab": {
          "base_uri": "https://localhost:8080/"
        },
        "id": "HCZqYwUdfwHp",
        "outputId": "90e104c1-9458-448f-e3e2-a9cee9813261"
      },
      "execution_count": 4,
      "outputs": [
        {
          "output_type": "stream",
          "name": "stdout",
          "text": [
            "<class 'pandas.core.frame.DataFrame'>\n",
            "RangeIndex: 167 entries, 0 to 166\n",
            "Data columns (total 10 columns):\n",
            " #   Column      Non-Null Count  Dtype  \n",
            "---  ------      --------------  -----  \n",
            " 0   country     167 non-null    object \n",
            " 1   child_mort  167 non-null    float64\n",
            " 2   exports     167 non-null    float64\n",
            " 3   health      167 non-null    float64\n",
            " 4   imports     167 non-null    float64\n",
            " 5   income      167 non-null    int64  \n",
            " 6   inflation   167 non-null    float64\n",
            " 7   life_expec  167 non-null    float64\n",
            " 8   total_fer   167 non-null    float64\n",
            " 9   gdpp        167 non-null    int64  \n",
            "dtypes: float64(7), int64(2), object(1)\n",
            "memory usage: 13.2+ KB\n"
          ]
        }
      ]
    },
    {
      "cell_type": "code",
      "source": [
        "data = data.astype({\"income\":'float64', \"gdpp\":'float64'})"
      ],
      "metadata": {
        "id": "9SfQTRvf5UV6"
      },
      "execution_count": 5,
      "outputs": []
    },
    {
      "cell_type": "code",
      "source": [
        "data = data.drop(columns='country')"
      ],
      "metadata": {
        "id": "ciMEs2IYh7Xj"
      },
      "execution_count": 6,
      "outputs": []
    },
    {
      "cell_type": "code",
      "source": [
        "data.info()"
      ],
      "metadata": {
        "colab": {
          "base_uri": "https://localhost:8080/"
        },
        "id": "UyIoDEFTunsJ",
        "outputId": "c14ff91a-c13f-441c-be90-0fdd3469b6a5"
      },
      "execution_count": 7,
      "outputs": [
        {
          "output_type": "stream",
          "name": "stdout",
          "text": [
            "<class 'pandas.core.frame.DataFrame'>\n",
            "RangeIndex: 167 entries, 0 to 166\n",
            "Data columns (total 9 columns):\n",
            " #   Column      Non-Null Count  Dtype  \n",
            "---  ------      --------------  -----  \n",
            " 0   child_mort  167 non-null    float64\n",
            " 1   exports     167 non-null    float64\n",
            " 2   health      167 non-null    float64\n",
            " 3   imports     167 non-null    float64\n",
            " 4   income      167 non-null    float64\n",
            " 5   inflation   167 non-null    float64\n",
            " 6   life_expec  167 non-null    float64\n",
            " 7   total_fer   167 non-null    float64\n",
            " 8   gdpp        167 non-null    float64\n",
            "dtypes: float64(9)\n",
            "memory usage: 11.9 KB\n"
          ]
        }
      ]
    },
    {
      "cell_type": "code",
      "source": [
        "sns.boxplot(x=data['child_mort'])"
      ],
      "metadata": {
        "colab": {
          "base_uri": "https://localhost:8080/",
          "height": 298
        },
        "id": "Wk7s_Zn9P9E2",
        "outputId": "4f32be7c-249a-451b-b806-89525da8d5d1"
      },
      "execution_count": 8,
      "outputs": [
        {
          "output_type": "execute_result",
          "data": {
            "text/plain": [
              "<matplotlib.axes._subplots.AxesSubplot at 0x7f947f5832e0>"
            ]
          },
          "metadata": {},
          "execution_count": 8
        },
        {
          "output_type": "display_data",
          "data": {
            "text/plain": [
              "<Figure size 432x288 with 1 Axes>"
            ],
            "image/png": "[encoded data removed]"
          },
          "metadata": {
            "needs_background": "light"
          }
        }
      ]
    },
    {
      "cell_type": "code",
      "source": [
        "sns.boxplot(x=data['exports'])"
      ],
      "metadata": {
        "colab": {
          "base_uri": "https://localhost:8080/",
          "height": 297
        },
        "id": "YqC_P7lYQI0t",
        "outputId": "ee5c11cc-f2a6-48e9-d267-2a752be46d85"
      },
      "execution_count": 9,
      "outputs": [
        {
          "output_type": "execute_result",
          "data": {
            "text/plain": [
              "<matplotlib.axes._subplots.AxesSubplot at 0x7f947f3993d0>"
            ]
          },
          "metadata": {},
          "execution_count": 9
        },
        {
          "output_type": "display_data",
          "data": {
            "text/plain": [
              "<Figure size 432x288 with 1 Axes>"
            ],
            "image/png": "[encoded data removed]"
          },
          "metadata": {
            "needs_background": "light"
          }
        }
      ]
    },
    {
      "cell_type": "code",
      "source": [
        "sns.boxplot(x=data['health'])"
      ],
      "metadata": {
        "colab": {
          "base_uri": "https://localhost:8080/",
          "height": 297
        },
        "id": "sON6tdaqP3LX",
        "outputId": "f8584726-4295-4562-bbc5-80613a54092e"
      },
      "execution_count": 10,
      "outputs": [
        {
          "output_type": "execute_result",
          "data": {
            "text/plain": [
              "<matplotlib.axes._subplots.AxesSubplot at 0x7f947eeae070>"
            ]
          },
          "metadata": {},
          "execution_count": 10
        },
        {
          "output_type": "display_data",
          "data": {
            "text/plain": [
              "<Figure size 432x288 with 1 Axes>"
            ],
            "image/png": "[encoded data removed]"
          },
          "metadata": {
            "needs_background": "light"
          }
        }
      ]
    },
    {
      "cell_type": "code",
      "source": [
        "sns.boxplot(x=data['imports'])"
      ],
      "metadata": {
        "colab": {
          "base_uri": "https://localhost:8080/",
          "height": 297
        },
        "id": "x-Mav3nHQWAb",
        "outputId": "42a7f90a-af72-4e4b-da12-37b21f28115b"
      },
      "execution_count": 11,
      "outputs": [
        {
          "output_type": "execute_result",
          "data": {
            "text/plain": [
              "<matplotlib.axes._subplots.AxesSubplot at 0x7f947ee196a0>"
            ]
          },
          "metadata": {},
          "execution_count": 11
        },
        {
          "output_type": "display_data",
          "data": {
            "text/plain": [
              "<Figure size 432x288 with 1 Axes>"
            ],
            "image/png": "[encoded data removed]"
          },
          "metadata": {
            "needs_background": "light"
          }
        }
      ]
    },
    {
      "cell_type": "code",
      "source": [
        "sns.boxplot(x=data['income'])"
      ],
      "metadata": {
        "colab": {
          "base_uri": "https://localhost:8080/",
          "height": 297
        },
        "id": "HW4xzL5uQbjG",
        "outputId": "a7957209-84db-4b96-ca68-0c5852bb5fae"
      },
      "execution_count": 12,
      "outputs": [
        {
          "output_type": "execute_result",
          "data": {
            "text/plain": [
              "<matplotlib.axes._subplots.AxesSubplot at 0x7f947edfdaf0>"
            ]
          },
          "metadata": {},
          "execution_count": 12
        },
        {
          "output_type": "display_data",
          "data": {
            "text/plain": [
              "<Figure size 432x288 with 1 Axes>"
            ],
            "image/png": "[encoded data removed]"
          },
          "metadata": {
            "needs_background": "light"
          }
        }
      ]
    },
    {
      "cell_type": "code",
      "source": [
        "sns.boxplot(x=data['inflation'])"
      ],
      "metadata": {
        "colab": {
          "base_uri": "https://localhost:8080/",
          "height": 297
        },
        "id": "k5O-WfstQkVM",
        "outputId": "3c732278-d1a2-4c7a-c035-a12f739f254e"
      },
      "execution_count": 13,
      "outputs": [
        {
          "output_type": "execute_result",
          "data": {
            "text/plain": [
              "<matplotlib.axes._subplots.AxesSubplot at 0x7f947ed59fd0>"
            ]
          },
          "metadata": {},
          "execution_count": 13
        },
        {
          "output_type": "display_data",
          "data": {
            "text/plain": [
              "<Figure size 432x288 with 1 Axes>"
            ],
            "image/png": "[encoded data removed]"
          },
          "metadata": {
            "needs_background": "light"
          }
        }
      ]
    },
    {
      "cell_type": "code",
      "source": [
        "sns.boxplot(x=data['life_expec'])"
      ],
      "metadata": {
        "colab": {
          "base_uri": "https://localhost:8080/",
          "height": 298
        },
        "id": "8gNjHtNFRHWc",
        "outputId": "d7724247-302d-42c3-8835-a1bda2aefdf8"
      },
      "execution_count": 14,
      "outputs": [
        {
          "output_type": "execute_result",
          "data": {
            "text/plain": [
              "<matplotlib.axes._subplots.AxesSubplot at 0x7f947eea8b20>"
            ]
          },
          "metadata": {},
          "execution_count": 14
        },
        {
          "output_type": "display_data",
          "data": {
            "text/plain": [
              "<Figure size 432x288 with 1 Axes>"
            ],
            "image/png": "[encoded data removed]"
          },
          "metadata": {
            "needs_background": "light"
          }
        }
      ]
    },
    {
      "cell_type": "code",
      "source": [
        "sns.boxplot(x=data['total_fer'])"
      ],
      "metadata": {
        "colab": {
          "base_uri": "https://localhost:8080/",
          "height": 298
        },
        "id": "Df8A-PgFRLOX",
        "outputId": "9fbb7fab-4e5d-44fa-fb47-476baa36c231"
      },
      "execution_count": 15,
      "outputs": [
        {
          "output_type": "execute_result",
          "data": {
            "text/plain": [
              "<matplotlib.axes._subplots.AxesSubplot at 0x7f947ecfeee0>"
            ]
          },
          "metadata": {},
          "execution_count": 15
        },
        {
          "output_type": "display_data",
          "data": {
            "text/plain": [
              "<Figure size 432x288 with 1 Axes>"
            ],
            "image/png": "[encoded data removed]"
          },
          "metadata": {
            "needs_background": "light"
          }
        }
      ]
    },
    {
      "cell_type": "code",
      "source": [
        "sns.boxplot(x=data['gdpp'])"
      ],
      "metadata": {
        "colab": {
          "base_uri": "https://localhost:8080/",
          "height": 297
        },
        "id": "EPwHiaCjROdc",
        "outputId": "e94aab62-8666-4feb-cc6c-42e1fc59b5b9"
      },
      "execution_count": 16,
      "outputs": [
        {
          "output_type": "execute_result",
          "data": {
            "text/plain": [
              "<matplotlib.axes._subplots.AxesSubplot at 0x7f947ec54eb0>"
            ]
          },
          "metadata": {},
          "execution_count": 16
        },
        {
          "output_type": "display_data",
          "data": {
            "text/plain": [
              "<Figure size 432x288 with 1 Axes>"
            ],
            "image/png": "[encoded data removed]"
          },
          "metadata": {
            "needs_background": "light"
          }
        }
      ]
    },
    {
      "cell_type": "code",
      "source": [
        "Q1 = data.quantile(0.25)\n",
        "Q3 = data.quantile(0.75)\n",
        "IQR=Q3-Q1\n",
        "df=data[~((data<(Q1-1.5*IQR))|(data>(Q3+1.5*IQR))).any(axis=1)]\n",
        "\n",
        "df.shape"
      ],
      "metadata": {
        "colab": {
          "base_uri": "https://localhost:8080/"
        },
        "id": "yYdyaE9u2s2Q",
        "outputId": "e8b94d0b-79f6-4533-d640-2487834ba4b2"
      },
      "execution_count": 17,
      "outputs": [
        {
          "output_type": "execute_result",
          "data": {
            "text/plain": [
              "(128, 9)"
            ]
          },
          "metadata": {},
          "execution_count": 17
        }
      ]
    },
    {
      "cell_type": "code",
      "source": [
        "plt.figure(figsize=(10, 8))\n",
        "correlation_matrix = df.corr().round(2)\n",
        "# annot = True to print the values inside the square\n",
        "sns.heatmap(data=correlation_matrix, annot=True, cmap='coolwarm', linewidths=0.5, )\n",
        "plt.title(\"Correlation Matrix \", size=20)"
      ],
      "metadata": {
        "id": "LKVbiKvMRhoR",
        "colab": {
          "base_uri": "https://localhost:8080/",
          "height": 523
        },
        "outputId": "ad91487b-e3a2-4a5c-c9d6-2ec72d74b72c"
      },
      "execution_count": 18,
      "outputs": [
        {
          "output_type": "execute_result",
          "data": {
            "text/plain": [
              "Text(0.5, 1.0, 'Correlation Matrix ')"
            ]
          },
          "metadata": {},
          "execution_count": 18
        },
        {
          "output_type": "display_data",
          "data": {
            "text/plain": [
              "<Figure size 720x576 with 2 Axes>"
            ],
            "image/png": "[encoded data removed]"
          },
          "metadata": {
            "needs_background": "light"
          }
        }
      ]
    },
    {
      "cell_type": "markdown",
      "source": [
        "Based on the correlation matrix above, the highest correlation is between income and gdpp which is 0.9"
      ],
      "metadata": {
        "id": "el7zD-seALjD"
      }
    },
    {
      "cell_type": "code",
      "source": [
        "df.drop(['child_mort','exports', 'health', 'imports', 'inflation', 'life_expec', 'total_fer'], axis=1, inplace=True)\n",
        "df.head()"
      ],
      "metadata": {
        "colab": {
          "base_uri": "https://localhost:8080/",
          "height": 315
        },
        "id": "tczY1vddAZYb",
        "outputId": "d503c70c-02dc-46d7-bb5f-119378395e5a"
      },
      "execution_count": 19,
      "outputs": [
        {
          "output_type": "stream",
          "name": "stderr",
          "text": [
            "/usr/local/lib/python3.8/dist-packages/pandas/core/frame.py:4906: SettingWithCopyWarning: \n",
            "A value is trying to be set on a copy of a slice from a DataFrame\n",
            "\n",
            "See the caveats in the documentation: https://pandas.pydata.org/pandas-docs/stable/user_guide/indexing.html#returning-a-view-versus-a-copy\n",
            "  return super().drop(\n"
          ]
        },
        {
          "output_type": "execute_result",
          "data": {
            "text/plain": [
              "    income     gdpp\n",
              "0   1610.0    553.0\n",
              "1   9930.0   4090.0\n",
              "2  12900.0   4460.0\n",
              "3   5900.0   3530.0\n",
              "4  19100.0  12200.0"
            ],
            "text/html": [
              "\n",
              "  <div id=\"df-0f2fba92-3066-487c-b7d4-26c350f4b4c4\">\n",
              "    <div class=\"colab-df-container\">\n",
              "      <div>\n",
              "<style scoped>\n",
              "    .dataframe tbody tr th:only-of-type {\n",
              "        vertical-align: middle;\n",
              "    }\n",
              "\n",
              "    .dataframe tbody tr th {\n",
              "        vertical-align: top;\n",
              "    }\n",
              "\n",
              "    .dataframe thead th {\n",
              "        text-align: right;\n",
              "    }\n",
              "</style>\n",
              "<table border=\"1\" class=\"dataframe\">\n",
              "  <thead>\n",
              "    <tr style=\"text-align: right;\">\n",
              "      <th></th>\n",
              "      <th>income</th>\n",
              "      <th>gdpp</th>\n",
              "    </tr>\n",
              "  </thead>\n",
              "  <tbody>\n",
              "    <tr>\n",
              "      <th>0</th>\n",
              "      <td>1610.0</td>\n",
              "      <td>553.0</td>\n",
              "    </tr>\n",
              "    <tr>\n",
              "      <th>1</th>\n",
              "      <td>9930.0</td>\n",
              "      <td>4090.0</td>\n",
              "    </tr>\n",
              "    <tr>\n",
              "      <th>2</th>\n",
              "      <td>12900.0</td>\n",
              "      <td>4460.0</td>\n",
              "    </tr>\n",
              "    <tr>\n",
              "      <th>3</th>\n",
              "      <td>5900.0</td>\n",
              "      <td>3530.0</td>\n",
              "    </tr>\n",
              "    <tr>\n",
              "      <th>4</th>\n",
              "      <td>19100.0</td>\n",
              "      <td>12200.0</td>\n",
              "    </tr>\n",
              "  </tbody>\n",
              "</table>\n",
              "</div>\n",
              "      <button class=\"colab-df-convert\" onclick=\"convertToInteractive('df-0f2fba92-3066-487c-b7d4-26c350f4b4c4')\"\n",
              "              title=\"Convert this dataframe to an interactive table.\"\n",
              "              style=\"display:none;\">\n",
              "        \n",
              "  <svg xmlns=\"http://www.w3.org/2000/svg\" height=\"24px\"viewBox=\"0 0 24 24\"\n",
              "       width=\"24px\">\n",
              "    <path d=\"M0 0h24v24H0V0z\" fill=\"none\"/>\n",
              "    <path d=\"M18.56 5.44l.94 2.06.94-2.06 2.06-.94-2.06-.94-.94-2.06-.94 2.06-2.06.94zm-11 1L8.5 8.5l.94-2.06 2.06-.94-2.06-.94L8.5 2.5l-.94 2.06-2.06.94zm10 10l.94 2.06.94-2.06 2.06-.94-2.06-.94-.94-2.06-.94 2.06-2.06.94z\"/><path d=\"M17.41 7.96l-1.37-1.37c-.4-.4-.92-.59-1.43-.59-.52 0-1.04.2-1.43.59L10.3 9.45l-7.72 7.72c-.78.78-.78 2.05 0 2.83L4 21.41c.39.39.9.59 1.41.59.51 0 1.02-.2 1.41-.59l7.78-7.78 2.81-2.81c.8-.78.8-2.07 0-2.86zM5.41 20L4 18.59l7.72-7.72 1.47 1.35L5.41 20z\"/>\n",
              "  </svg>\n",
              "      </button>\n",
              "      \n",
              "  <style>\n",
              "    .colab-df-container {\n",
              "      display:flex;\n",
              "      flex-wrap:wrap;\n",
              "      gap: 12px;\n",
              "    }\n",
              "\n",
              "    .colab-df-convert {\n",
              "      background-color: #E8F0FE;\n",
              "      border: none;\n",
              "      border-radius: 50%;\n",
              "      cursor: pointer;\n",
              "      display: none;\n",
              "      fill: #1967D2;\n",
              "      height: 32px;\n",
              "      padding: 0 0 0 0;\n",
              "      width: 32px;\n",
              "    }\n",
              "\n",
              "    .colab-df-convert:hover {\n",
              "      background-color: #E2EBFA;\n",
              "      box-shadow: 0px 1px 2px rgba(60, 64, 67, 0.3), 0px 1px 3px 1px rgba(60, 64, 67, 0.15);\n",
              "      fill: #174EA6;\n",
              "    }\n",
              "\n",
              "    [theme=dark] .colab-df-convert {\n",
              "      background-color: #3B4455;\n",
              "      fill: #D2E3FC;\n",
              "    }\n",
              "\n",
              "    [theme=dark] .colab-df-convert:hover {\n",
              "      background-color: #434B5C;\n",
              "      box-shadow: 0px 1px 3px 1px rgba(0, 0, 0, 0.15);\n",
              "      filter: drop-shadow(0px 1px 2px rgba(0, 0, 0, 0.3));\n",
              "      fill: #FFFFFF;\n",
              "    }\n",
              "  </style>\n",
              "\n",
              "      <script>\n",
              "        const buttonEl =\n",
              "          document.querySelector('#df-0f2fba92-3066-487c-b7d4-26c350f4b4c4 button.colab-df-convert');\n",
              "        buttonEl.style.display =\n",
              "          google.colab.kernel.accessAllowed ? 'block' : 'none';\n",
              "\n",
              "        async function convertToInteractive(key) {\n",
              "          const element = document.querySelector('#df-0f2fba92-3066-487c-b7d4-26c350f4b4c4');\n",
              "          const dataTable =\n",
              "            await google.colab.kernel.invokeFunction('convertToInteractive',\n",
              "                                                     [key], {});\n",
              "          if (!dataTable) return;\n",
              "\n",
              "          const docLinkHtml = 'Like what you see? Visit the ' +\n",
              "            '<a target=\"_blank\" href=https://colab.research.google.com/notebooks/data_table.ipynb>data table notebook</a>'\n",
              "            + ' to learn more about interactive tables.';\n",
              "          element.innerHTML = '';\n",
              "          dataTable['output_type'] = 'display_data';\n",
              "          await google.colab.output.renderOutput(dataTable, element);\n",
              "          const docLink = document.createElement('div');\n",
              "          docLink.innerHTML = docLinkHtml;\n",
              "          element.appendChild(docLink);\n",
              "        }\n",
              "      </script>\n",
              "    </div>\n",
              "  </div>\n",
              "  "
            ]
          },
          "metadata": {},
          "execution_count": 19
        }
      ]
    },
    {
      "cell_type": "code",
      "source": [
        "df = np.array(df)\n",
        "df"
      ],
      "metadata": {
        "colab": {
          "base_uri": "https://localhost:8080/"
        },
        "id": "aGgarojKBNe8",
        "outputId": "92800e40-6d3b-45db-dfe0-575bc23db050"
      },
      "execution_count": 20,
      "outputs": [
        {
          "output_type": "execute_result",
          "data": {
            "text/plain": [
              "array([[ 1610.,   553.],\n",
              "       [ 9930.,  4090.],\n",
              "       [12900.,  4460.],\n",
              "       [ 5900.,  3530.],\n",
              "       [19100., 12200.],\n",
              "       [18700., 10300.],\n",
              "       [ 6700.,  3220.],\n",
              "       [16000.,  5840.],\n",
              "       [22900., 28000.],\n",
              "       [41100., 20700.],\n",
              "       [ 2440.,   758.],\n",
              "       [15300., 16000.],\n",
              "       [16200.,  6030.],\n",
              "       [ 7880.,  4340.],\n",
              "       [ 1820.,   758.],\n",
              "       [ 6420.,  2180.],\n",
              "       [ 5410.,  1980.],\n",
              "       [ 9720.,  4610.],\n",
              "       [13300.,  6350.],\n",
              "       [14500., 11200.],\n",
              "       [15300.,  6840.],\n",
              "       [ 1430.,   575.],\n",
              "       [  764.,   231.],\n",
              "       [ 2520.,   786.],\n",
              "       [ 2660.,  1310.],\n",
              "       [ 5830.,  3310.],\n",
              "       [19400., 12900.],\n",
              "       [ 9530.,  4560.],\n",
              "       [10900.,  6250.],\n",
              "       [ 1410.,   769.],\n",
              "       [  609.,   334.],\n",
              "       [ 5190.,  2740.],\n",
              "       [13000.,  8200.],\n",
              "       [ 2690.,  1220.],\n",
              "       [20100., 13500.],\n",
              "       [33900., 30800.],\n",
              "       [28300., 19800.],\n",
              "       [11100.,  5450.],\n",
              "       [ 9350.,  4660.],\n",
              "       [ 9860.,  2600.],\n",
              "       [ 7300.,  2990.],\n",
              "       [ 1420.,   482.],\n",
              "       [22700., 14600.],\n",
              "       [ 7350.,  3650.],\n",
              "       [15400.,  8750.],\n",
              "       [ 1660.,   562.],\n",
              "       [ 6730.,  2960.],\n",
              "       [ 3060.,  1310.],\n",
              "       [28700., 26900.],\n",
              "       [11200.,  7370.],\n",
              "       [ 6710.,  2830.],\n",
              "       [ 1190.,   648.],\n",
              "       [ 1390.,   547.],\n",
              "       [ 5840.,  3040.],\n",
              "       [22300., 13100.],\n",
              "       [ 4410.,  1350.],\n",
              "       [ 8430.,  3110.],\n",
              "       [17400.,  6530.],\n",
              "       [12700.,  4500.],\n",
              "       [29600., 30600.],\n",
              "       [ 8000.,  4680.],\n",
              "       [ 9470.,  3680.],\n",
              "       [20100.,  9070.],\n",
              "       [ 2480.,   967.],\n",
              "       [ 1730.,  1490.],\n",
              "       [ 2790.,   880.],\n",
              "       [ 3980.,  1140.],\n",
              "       [18300., 11300.],\n",
              "       [16300.,  8860.],\n",
              "       [  700.,   327.],\n",
              "       [29600., 12100.],\n",
              "       [21100., 12000.],\n",
              "       [11400.,  4540.],\n",
              "       [ 1390.,   413.],\n",
              "       [ 1030.,   459.],\n",
              "       [21100.,  9070.],\n",
              "       [10500.,  7100.],\n",
              "       [ 1870.,   708.],\n",
              "       [ 3320.,  1200.],\n",
              "       [15900.,  8000.],\n",
              "       [ 3910.,  1630.],\n",
              "       [14000.,  6680.],\n",
              "       [ 6440.,  2830.],\n",
              "       [  918.,   419.],\n",
              "       [ 3720.,   988.],\n",
              "       [ 8460.,  5190.],\n",
              "       [ 1990.,   592.],\n",
              "       [45300., 19300.],\n",
              "       [ 4280.,  1040.],\n",
              "       [15400.,  8080.],\n",
              "       [ 7290.,  3230.],\n",
              "       [ 9960.,  5020.],\n",
              "       [ 5600.,  2130.],\n",
              "       [21800., 12600.],\n",
              "       [27200., 22500.],\n",
              "       [17800.,  8230.],\n",
              "       [23100., 10700.],\n",
              "       [ 1350.,   563.],\n",
              "       [ 5400.,  3450.],\n",
              "       [45400., 19300.],\n",
              "       [ 2180.,  1000.],\n",
              "       [12700.,  5410.],\n",
              "       [25200., 16600.],\n",
              "       [28700., 23400.],\n",
              "       [ 1780.,  1290.],\n",
              "       [12000.,  7280.],\n",
              "       [30400., 22100.],\n",
              "       [32500., 30700.],\n",
              "       [ 8560.,  2810.],\n",
              "       [ 9920.,  6230.],\n",
              "       [ 3370.,  1480.],\n",
              "       [14200.,  8300.],\n",
              "       [ 2110.,   738.],\n",
              "       [ 2090.,   702.],\n",
              "       [13500.,  5080.],\n",
              "       [ 1210.,   488.],\n",
              "       [ 4980.,  3550.],\n",
              "       [10400.,  4140.],\n",
              "       [18000., 10700.],\n",
              "       [ 9940.,  4440.],\n",
              "       [ 1540.,   595.],\n",
              "       [ 7820.,  2970.],\n",
              "       [17100., 11900.],\n",
              "       [ 4240.,  1380.],\n",
              "       [ 2950.,  2970.],\n",
              "       [ 4490.,  1310.],\n",
              "       [ 4480.,  1310.],\n",
              "       [ 3280.,  1460.]])"
            ]
          },
          "metadata": {},
          "execution_count": 20
        }
      ]
    },
    {
      "cell_type": "markdown",
      "source": [
        "Find xmin"
      ],
      "metadata": {
        "id": "0O_XTgqjLjPl"
      }
    },
    {
      "cell_type": "code",
      "source": [
        "xmin = np.amin(df, axis=0)\n",
        "xmin"
      ],
      "metadata": {
        "colab": {
          "base_uri": "https://localhost:8080/"
        },
        "id": "tOh_iYHhpA8S",
        "outputId": "6b559b7e-5f67-480d-f87b-eef9a0c5fd52"
      },
      "execution_count": 21,
      "outputs": [
        {
          "output_type": "execute_result",
          "data": {
            "text/plain": [
              "array([609., 231.])"
            ]
          },
          "metadata": {},
          "execution_count": 21
        }
      ]
    },
    {
      "cell_type": "markdown",
      "source": [
        "Find xmax"
      ],
      "metadata": {
        "id": "vRXfQXFfg7OH"
      }
    },
    {
      "cell_type": "code",
      "source": [
        "xmax = np.amax(df, axis=0)\n",
        "xmax"
      ],
      "metadata": {
        "colab": {
          "base_uri": "https://localhost:8080/"
        },
        "id": "wI55TMMPLlwP",
        "outputId": "a4bbaeae-a0b4-47c6-87fd-0fe4ec8709a0"
      },
      "execution_count": 22,
      "outputs": [
        {
          "output_type": "execute_result",
          "data": {
            "text/plain": [
              "array([45400., 30800.])"
            ]
          },
          "metadata": {},
          "execution_count": 22
        }
      ]
    },
    {
      "cell_type": "markdown",
      "source": [
        "Scaling data"
      ],
      "metadata": {
        "id": "-xT6ul_eiAXh"
      }
    },
    {
      "cell_type": "code",
      "source": [
        "scaled = np.zeros((128, 2))\n",
        "for i in range(len(df)):\n",
        "  scaled[i][0] = (df[i][0] - xmin[0]) / (xmax[0] - xmin[0])\n",
        "  scaled[i][1] = (df[i][1] - xmin[1]) / (xmax[1] - xmin[1])\n",
        "\n",
        "scaled"
      ],
      "metadata": {
        "colab": {
          "base_uri": "https://localhost:8080/"
        },
        "id": "tblWJIOYLpsD",
        "outputId": "7c250857-1a05-4242-c8a6-12f25616fee1"
      },
      "execution_count": 23,
      "outputs": [
        {
          "output_type": "execute_result",
          "data": {
            "text/plain": [
              "array([[0.02234824, 0.01053355],\n",
              "       [0.20809984, 0.126239  ],\n",
              "       [0.27440781, 0.13834277],\n",
              "       [0.11812641, 0.10791979],\n",
              "       [0.41282847, 0.39154045],\n",
              "       [0.4038981 , 0.32938598],\n",
              "       [0.13598714, 0.0977788 ],\n",
              "       [0.34361814, 0.18348654],\n",
              "       [0.49766694, 0.90840394],\n",
              "       [0.90399857, 0.66959992],\n",
              "       [0.04087875, 0.01723969],\n",
              "       [0.32799   , 0.51584939],\n",
              "       [0.34808332, 0.18970199],\n",
              "       [0.16233172, 0.13441722],\n",
              "       [0.02703668, 0.01723969],\n",
              "       [0.12973588, 0.0637574 ],\n",
              "       [0.10718671, 0.05721483],\n",
              "       [0.2034114 , 0.1432497 ],\n",
              "       [0.28333817, 0.20017011],\n",
              "       [0.31012927, 0.35882757],\n",
              "       [0.32799   , 0.21619942],\n",
              "       [0.01832958, 0.01125323],\n",
              "       [0.00346052, 0.        ],\n",
              "       [0.04266482, 0.01815565],\n",
              "       [0.04579045, 0.0352972 ],\n",
              "       [0.1165636 , 0.10072295],\n",
              "       [0.41952624, 0.41443946],\n",
              "       [0.19916948, 0.14161405],\n",
              "       [0.22975598, 0.19689882],\n",
              "       [0.01788306, 0.01759953],\n",
              "       [0.        , 0.00336943],\n",
              "       [0.10227501, 0.08207661],\n",
              "       [0.2766404 , 0.26068893],\n",
              "       [0.04646023, 0.03235304],\n",
              "       [0.43515438, 0.43406719],\n",
              "       [0.74325199, 1.        ],\n",
              "       [0.61822688, 0.64015833],\n",
              "       [0.23422116, 0.17072852],\n",
              "       [0.19515081, 0.14488534],\n",
              "       [0.20653703, 0.07749681],\n",
              "       [0.14938269, 0.09025483],\n",
              "       [0.01810632, 0.00821093],\n",
              "       [0.49320176, 0.47005136],\n",
              "       [0.15049898, 0.11184533],\n",
              "       [0.33022259, 0.27868102],\n",
              "       [0.02346454, 0.01082796],\n",
              "       [0.13665692, 0.08927345],\n",
              "       [0.05472081, 0.0352972 ],\n",
              "       [0.62715724, 0.87241977],\n",
              "       [0.23645375, 0.23353724],\n",
              "       [0.1362104 , 0.08502077],\n",
              "       [0.01297136, 0.01364127],\n",
              "       [0.01743654, 0.01033727],\n",
              "       [0.11678685, 0.09189048],\n",
              "       [0.48427139, 0.42098204],\n",
              "       [0.0848608 , 0.03660571],\n",
              "       [0.17461097, 0.09418038],\n",
              "       [0.37487442, 0.20605843],\n",
              "       [0.26994262, 0.13965128],\n",
              "       [0.64725056, 0.99345742],\n",
              "       [0.16501083, 0.1455396 ],\n",
              "       [0.19782992, 0.11282672],\n",
              "       [0.43515438, 0.28914914],\n",
              "       [0.04177178, 0.02407668],\n",
              "       [0.02502735, 0.04118551],\n",
              "       [0.04869282, 0.02123066],\n",
              "       [0.07526066, 0.02973601],\n",
              "       [0.39496774, 0.36209886],\n",
              "       [0.35031591, 0.28227943],\n",
              "       [0.00203166, 0.00314044],\n",
              "       [0.64725056, 0.38826916],\n",
              "       [0.4574803 , 0.38499787],\n",
              "       [0.24091893, 0.1409598 ],\n",
              "       [0.01743654, 0.00595374],\n",
              "       [0.00939921, 0.00745854],\n",
              "       [0.4574803 , 0.28914914],\n",
              "       [0.22082561, 0.22470477],\n",
              "       [0.02815298, 0.01560404],\n",
              "       [0.06052555, 0.03169878],\n",
              "       [0.34138555, 0.25414636],\n",
              "       [0.07369784, 0.04576532],\n",
              "       [0.29896631, 0.21096536],\n",
              "       [0.1301824 , 0.08502077],\n",
              "       [0.00689871, 0.00615002],\n",
              "       [0.06945592, 0.02476365],\n",
              "       [0.17528075, 0.16222317],\n",
              "       [0.03083209, 0.01180935],\n",
              "       [0.99776741, 0.62380189],\n",
              "       [0.08195843, 0.02646472],\n",
              "       [0.33022259, 0.25676339],\n",
              "       [0.14915943, 0.09810592],\n",
              "       [0.20876962, 0.15666198],\n",
              "       [0.11142864, 0.06212176],\n",
              "       [0.47310844, 0.4046256 ],\n",
              "       [0.59366837, 0.7284831 ],\n",
              "       [0.38380478, 0.26167032],\n",
              "       [0.50213212, 0.34247113],\n",
              "       [0.0165435 , 0.01086068],\n",
              "       [0.10696345, 0.10530276],\n",
              "       [1.        , 0.62380189],\n",
              "       [0.03507401, 0.0251562 ],\n",
              "       [0.26994262, 0.16942   ],\n",
              "       [0.54901654, 0.53547712],\n",
              "       [0.62715724, 0.75792469],\n",
              "       [0.02614364, 0.03464294],\n",
              "       [0.25431448, 0.23059308],\n",
              "       [0.66511129, 0.71539795],\n",
              "       [0.71199571, 0.99672871],\n",
              "       [0.17751334, 0.08436652],\n",
              "       [0.20787658, 0.19624456],\n",
              "       [0.06164185, 0.04085839],\n",
              "       [0.30343149, 0.26396022],\n",
              "       [0.0335112 , 0.01658543],\n",
              "       [0.03306468, 0.01540777],\n",
              "       [0.28780335, 0.15862475],\n",
              "       [0.01341787, 0.00840721],\n",
              "       [0.09758657, 0.10857405],\n",
              "       [0.21859302, 0.12787464],\n",
              "       [0.38826996, 0.34247113],\n",
              "       [0.2083231 , 0.13768851],\n",
              "       [0.02078543, 0.01190749],\n",
              "       [0.16099216, 0.08960058],\n",
              "       [0.36817664, 0.38172659],\n",
              "       [0.08106539, 0.0375871 ],\n",
              "       [0.05226496, 0.08960058],\n",
              "       [0.08664687, 0.0352972 ],\n",
              "       [0.08642361, 0.0352972 ],\n",
              "       [0.05963252, 0.04020413]])"
            ]
          },
          "metadata": {},
          "execution_count": 23
        }
      ]
    },
    {
      "cell_type": "code",
      "source": [
        "for i in range(len(df)):\n",
        "  plt.scatter(df[i][0], df[i][1])\n",
        "\n",
        "plt.show()"
      ],
      "metadata": {
        "colab": {
          "base_uri": "https://localhost:8080/",
          "height": 265
        },
        "id": "FRKOkkJNrANL",
        "outputId": "fb97b4fe-6737-4dc3-b1ef-5de808056be1"
      },
      "execution_count": 24,
      "outputs": [
        {
          "output_type": "display_data",
          "data": {
            "text/plain": [
              "<Figure size 432x288 with 1 Axes>"
            ],
            "image/png": "[encoded data removed]"
          },
          "metadata": {
            "needs_background": "light"
          }
        }
      ]
    },
    {
      "cell_type": "markdown",
      "source": [
        "Clustering model"
      ],
      "metadata": {
        "id": "enITQfUFiXJr"
      }
    },
    {
      "cell_type": "code",
      "source": [
        "colors = [\"g\",\"r\",\"b\",\"k\"]\n",
        "class K_Means:\n",
        "  def __init__(self,k):\n",
        "    self.k = k\n",
        "    # self.tol is a toleration value that is according to the sklearn lib\n",
        "    self.tol = 0.0001\n",
        "    # self.iter is the amount of iteration that is according to the sklearn lib\n",
        "    self.max_iter = 300\n",
        "    # initialize sum square error value for the clustering \n",
        "    self.sse = 0\n",
        "  def fit(self, data):\n",
        "    #self.centroids used to save the centroids value (dictionary)\n",
        "    self.centroids = {}\n",
        "    #random the data sample to get the new centroid\n",
        "    np.random.shuffle(data)\n",
        "    for i in range(self.k):\n",
        "      #fill the centroids as much as self.k value\n",
        "      self.centroids[i] = data[i]\n",
        "\n",
        "    for i in range(self.max_iter):\n",
        "      #self.classifications used to save clustering value (dictionary)\n",
        "      self.classifications = {}\n",
        "      #self.current_distances used to save the distances with the centroid (list)\n",
        "      self.current_distances = []\n",
        "\n",
        "      for i in range(self.k):\n",
        "        #make an array as much as self.k\n",
        "        self.classifications[i] = []\n",
        "\n",
        "      for featureset in data:\n",
        "        #distances used to calculate the distances between the data and the centroid\n",
        "        distances = [np.linalg.norm(featureset-self.centroids[centroid])for centroid in self.centroids]\n",
        "        #take the index that has the shortest distances from the distances array\n",
        "        classification = distances.index(min(distances))\n",
        "        #store it into the self.current_distances array\n",
        "        self.current_distances.append(distances[classification])\n",
        "        #store the data into the self.classification array\n",
        "        self.classifications[classification].append(featureset)\n",
        "\n",
        "      #prev_centroids contains the old centroid value\n",
        "      prev_centroids = dict(self.centroids)\n",
        "      \n",
        "      for classification in self.classifications:\n",
        "        #calculate the average of the data to get the new centroid\n",
        "        self.centroids[classification] = np.average(self.classifications[classification], axis = 0)\n",
        "      optimized = True\n",
        "      for c in self.centroids:\n",
        "        original_centroid = prev_centroids[c]\n",
        "        current_centroid = self.centroids[c]\n",
        "        #if the gaps between the new centroid and the old centroid is more than self.tol, then the result of the clustering has not optimal yet\n",
        "        if np.sum(((current_centroid-original_centroid))/original_centroid*100.0)>self.tol:\n",
        "          optimized = False\n",
        "      #if the result of the clustering has been optimal, calculate the sse and quit the looping\n",
        "      if optimized:\n",
        "        for se in self.current_distances:\n",
        "          self.sse = self.sse + (se**2)\n",
        "        break"
      ],
      "metadata": {
        "id": "X1FNve0KZhzb"
      },
      "execution_count": 25,
      "outputs": []
    },
    {
      "cell_type": "code",
      "source": [
        "#sse is to accomodate the sse value from the k = 1 until k = 10\n",
        "sse = []\n",
        "for i in range(1,11):\n",
        "    clf=K_Means(i)\n",
        "    clf.fit(df)\n",
        "    sse.append(clf.sse)"
      ],
      "metadata": {
        "id": "s7_a_Cd1Zu01"
      },
      "execution_count": 26,
      "outputs": []
    },
    {
      "cell_type": "code",
      "source": [
        "fig, ax = plt.subplots(figsize=(8, 4))\n",
        "sns.lineplot(x=list(range(1, 11)), y=sse, ax=ax)\n",
        "ax.set_title('Find the elbow')\n",
        "ax.set_xlabel('Clusters')\n",
        "ax.set_ylabel('Inertia')"
      ],
      "metadata": {
        "id": "suznvft0Zvjz",
        "colab": {
          "base_uri": "https://localhost:8080/",
          "height": 313
        },
        "outputId": "fe1c0d16-d0a3-4b42-b8a8-6cba5e9c90e3"
      },
      "execution_count": 27,
      "outputs": [
        {
          "output_type": "execute_result",
          "data": {
            "text/plain": [
              "Text(0, 0.5, 'Inertia')"
            ]
          },
          "metadata": {},
          "execution_count": 27
        },
        {
          "output_type": "display_data",
          "data": {
            "text/plain": [
              "<Figure size 576x288 with 1 Axes>"
            ],
            "image/png": "[encoded data removed]"
          },
          "metadata": {
            "needs_background": "light"
          }
        }
      ]
    },
    {
      "cell_type": "code",
      "source": [
        "clf = K_Means(2)\n",
        "clf.fit(df)\n",
        "#k1 untuk menampung data cluster pertama\n",
        "k1 = np.reshape(clf.classifications[0], (-1))\n",
        "#k2 untuk menampung data cluster kedua\n",
        "k2 = np.reshape(clf.classifications[1], (-1))\n",
        "#x1 untuk menampung umur dari k1\n",
        "x1 = []\n",
        "#y1 untuk menampung kanal_penjualan dari k1\n",
        "y1 = []\n",
        "for i in range(len(k1)):\n",
        "  if (i%2)==0:\n",
        "    x1.append(k1[i])\n",
        "  else:\n",
        "    y1.append(k1[i])\n",
        "#x2 untuk menampung umur dari k2\n",
        "x2 = []\n",
        "#y2 untuk menampung kanal_penjualan daru k2\n",
        "y2 = []\n",
        "for i in range(len(k2)):\n",
        "  if (i%2)==0:\n",
        "    x2.append(k2[i])\n",
        "  else:\n",
        "    y2.append(k2[i])\n",
        "#tentukan warna\n",
        "sns.scatterplot(x=x1,y=y1,color=colors[0])\n",
        "sns.scatterplot(x=x2,y=y2,color=colors[1])\n",
        "#beri tanda untuk centroid\n",
        "for centroid in clf.centroids:\n",
        "  plt.scatter(x=clf.centroids[centroid][0], y=clf.centroids[centroid][1],\n",
        "              marker=\"o\", color=\"cyan\", s=150, linewidths=5)\n",
        "\n",
        "plt.show()"
      ],
      "metadata": {
        "id": "CDqbC__eZyHL",
        "colab": {
          "base_uri": "https://localhost:8080/",
          "height": 265
        },
        "outputId": "2d5d6637-3801-4e75-8362-ed6ff89bf215"
      },
      "execution_count": 28,
      "outputs": [
        {
          "output_type": "display_data",
          "data": {
            "text/plain": [
              "<Figure size 432x288 with 1 Axes>"
            ],
            "image/png": "[encoded data removed]"
          },
          "metadata": {
            "needs_background": "light"
          }
        }
      ]
    }
  ],
  "metadata": {
    "colab": {
      "provenance": []
    },
    "kernelspec": {
      "display_name": "Python 3",
      "name": "python3"
    }
  },
  "nbformat": 4,
  "nbformat_minor": 0
}